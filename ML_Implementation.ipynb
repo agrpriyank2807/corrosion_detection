{
  "nbformat": 4,
  "nbformat_minor": 0,
  "metadata": {
    "accelerator": "GPU",
    "colab": {
      "name": "ML Implementation.ipynb",
      "provenance": [],
      "collapsed_sections": [],
      "include_colab_link": true
    },
    "kernelspec": {
      "display_name": "Python 3",
      "name": "python3"
    }
  },
  "cells": [
    {
      "cell_type": "markdown",
      "metadata": {
        "id": "view-in-github",
        "colab_type": "text"
      },
      "source": [
        "<a href=\"https://colab.research.google.com/github/agrpriyank2807/corrosion_detection/blob/main/ML_Implementation.ipynb\" target=\"_parent\"><img src=\"https://colab.research.google.com/assets/colab-badge.svg\" alt=\"Open In Colab\"/></a>"
      ]
    },
    {
      "cell_type": "markdown",
      "metadata": {
        "id": "QVMTXjK98_oq"
      },
      "source": [
        "Importing all the necessary libraries"
      ]
    },
    {
      "cell_type": "code",
      "metadata": {
        "id": "to67vGs57Ia3"
      },
      "source": [
        "import pandas as pd\n",
        "import numpy as np\n",
        "import graphviz\n",
        "from sklearn.tree import DecisionTreeClassifier, export_graphviz\n",
        "from sklearn import tree\n",
        "from sklearn.model_selection import train_test_split,GridSearchCV\n",
        "from sklearn.preprocessing import StandardScaler\n",
        "from sklearn.metrics import accuracy_score, confusion_matrix, roc_curve, roc_auc_score\n",
        "from sklearn.externals.six import StringIO  \n",
        "from IPython.display import Image  \n",
        "from sklearn.tree import export_graphviz\n",
        "import pydotplus\n",
        "from sklearn.ensemble import RandomForestClassifier\n",
        "from sklearn.ensemble import GradientBoostingClassifier\n",
        "from sklearn.neighbors import KNeighborsClassifier\n",
        "from sklearn.svm import SVC\n",
        "import xgboost as xgb\n",
        "import pickle\n",
        "from xgboost import XGBClassifier\n",
        "from sklearn import metrics\n",
        "from sklearn.metrics import accuracy_score\n",
        "from sklearn.naive_bayes import GaussianNB\n",
        "from sklearn.preprocessing import LabelEncoder\n",
        "from keras.utils import to_categorical\n",
        "from sklearn.preprocessing import OneHotEncoder\n",
        "from sklearn.model_selection import cross_val_score\n",
        "from sklearn.model_selection import RepeatedStratifiedKFold\n",
        "from sklearn.model_selection import StratifiedKFold\n",
        "from sklearn.ensemble import AdaBoostClassifier\n",
        "from sklearn.datasets import make_classification\n",
        "from sklearn.metrics import roc_auc_score\n",
        "from sklearn.preprocessing import label_binarize\n",
        "from sklearn.metrics import roc_curve,auc\n",
        "from sklearn.metrics import confusion_matrix\n",
        "from matplotlib import pyplot as plt"
      ],
      "execution_count": null,
      "outputs": []
    },
    {
      "cell_type": "code",
      "metadata": {
        "colab": {
          "base_uri": "https://localhost:8080/"
        },
        "id": "FjGxKWIY9HxL",
        "outputId": "2f00c011-ee69-44ac-8a9f-6cf296c3ac5a"
      },
      "source": [
        "from google.colab import drive\n",
        "drive.mount('/content/gdrive')"
      ],
      "execution_count": null,
      "outputs": [
        {
          "output_type": "stream",
          "text": [
            "Drive already mounted at /content/gdrive; to attempt to forcibly remount, call drive.mount(\"/content/gdrive\", force_remount=True).\n"
          ],
          "name": "stdout"
        }
      ]
    },
    {
      "cell_type": "code",
      "metadata": {
        "colab": {
          "base_uri": "https://localhost:8080/"
        },
        "id": "YXEuFGBsEGCS",
        "outputId": "5336395c-3de0-4012-9a22-3fa2c2426d66"
      },
      "source": [
        "from google.colab import drive\n",
        "drive.mount('/content/drive')"
      ],
      "execution_count": null,
      "outputs": [
        {
          "output_type": "stream",
          "text": [
            "Mounted at /content/drive\n"
          ],
          "name": "stdout"
        }
      ]
    },
    {
      "cell_type": "code",
      "metadata": {
        "id": "AFw3Jm_n9LN0"
      },
      "source": [
        "data=pd.read_csv('/content/gdrive/MyDrive/Project_Files/data_cleaned_final_edited')\n",
        "data=data.drop(columns='Unnamed: 0')\n"
      ],
      "execution_count": null,
      "outputs": []
    },
    {
      "cell_type": "code",
      "metadata": {
        "id": "gguPHVtU9ONT",
        "colab": {
          "base_uri": "https://localhost:8080/",
          "height": 195
        },
        "outputId": "9c143f2b-1cd6-48c8-c616-3e4eacb3bb8a"
      },
      "source": [
        "data.head()"
      ],
      "execution_count": null,
      "outputs": [
        {
          "output_type": "execute_result",
          "data": {
            "text/html": [
              "<div>\n",
              "<style scoped>\n",
              "    .dataframe tbody tr th:only-of-type {\n",
              "        vertical-align: middle;\n",
              "    }\n",
              "\n",
              "    .dataframe tbody tr th {\n",
              "        vertical-align: top;\n",
              "    }\n",
              "\n",
              "    .dataframe thead th {\n",
              "        text-align: right;\n",
              "    }\n",
              "</style>\n",
              "<table border=\"1\" class=\"dataframe\">\n",
              "  <thead>\n",
              "    <tr style=\"text-align: right;\">\n",
              "      <th></th>\n",
              "      <th>Environment</th>\n",
              "      <th>Material Group</th>\n",
              "      <th>Material Family</th>\n",
              "      <th>Material</th>\n",
              "      <th>Concentration</th>\n",
              "      <th>Temperature</th>\n",
              "      <th>Duration</th>\n",
              "      <th>Rate</th>\n",
              "    </tr>\n",
              "  </thead>\n",
              "  <tbody>\n",
              "    <tr>\n",
              "      <th>0</th>\n",
              "      <td>0</td>\n",
              "      <td>10</td>\n",
              "      <td>4</td>\n",
              "      <td>49</td>\n",
              "      <td>100.0</td>\n",
              "      <td>61.0</td>\n",
              "      <td>9936.0</td>\n",
              "      <td>1</td>\n",
              "    </tr>\n",
              "    <tr>\n",
              "      <th>1</th>\n",
              "      <td>0</td>\n",
              "      <td>10</td>\n",
              "      <td>4</td>\n",
              "      <td>55</td>\n",
              "      <td>70.0</td>\n",
              "      <td>118.0</td>\n",
              "      <td>4056.0</td>\n",
              "      <td>3</td>\n",
              "    </tr>\n",
              "    <tr>\n",
              "      <th>2</th>\n",
              "      <td>0</td>\n",
              "      <td>10</td>\n",
              "      <td>4</td>\n",
              "      <td>55</td>\n",
              "      <td>70.0</td>\n",
              "      <td>104.0</td>\n",
              "      <td>2400.0</td>\n",
              "      <td>0</td>\n",
              "    </tr>\n",
              "    <tr>\n",
              "      <th>3</th>\n",
              "      <td>0</td>\n",
              "      <td>10</td>\n",
              "      <td>4</td>\n",
              "      <td>55</td>\n",
              "      <td>50.0</td>\n",
              "      <td>92.0</td>\n",
              "      <td>5904.0</td>\n",
              "      <td>0</td>\n",
              "    </tr>\n",
              "    <tr>\n",
              "      <th>4</th>\n",
              "      <td>0</td>\n",
              "      <td>10</td>\n",
              "      <td>4</td>\n",
              "      <td>55</td>\n",
              "      <td>50.0</td>\n",
              "      <td>92.0</td>\n",
              "      <td>1944.0</td>\n",
              "      <td>1</td>\n",
              "    </tr>\n",
              "  </tbody>\n",
              "</table>\n",
              "</div>"
            ],
            "text/plain": [
              "   Environment  Material Group  Material Family  ...  Temperature  Duration  Rate\n",
              "0            0              10                4  ...         61.0    9936.0     1\n",
              "1            0              10                4  ...        118.0    4056.0     3\n",
              "2            0              10                4  ...        104.0    2400.0     0\n",
              "3            0              10                4  ...         92.0    5904.0     0\n",
              "4            0              10                4  ...         92.0    1944.0     1\n",
              "\n",
              "[5 rows x 8 columns]"
            ]
          },
          "metadata": {
            "tags": []
          },
          "execution_count": 105
        }
      ]
    },
    {
      "cell_type": "code",
      "metadata": {
        "id": "FP_s24ql9ZJZ"
      },
      "source": [
        "x=data.describe()"
      ],
      "execution_count": null,
      "outputs": []
    },
    {
      "cell_type": "markdown",
      "metadata": {
        "id": "QhDbQNLO-ef1"
      },
      "source": [
        "We have divided the dependent and independent features and are doing the feature scaling of the independent features."
      ]
    },
    {
      "cell_type": "code",
      "metadata": {
        "id": "Qv6wDdL89cCh"
      },
      "source": [
        "X=data.drop(columns='Rate')\n",
        "y=data['Rate']\n",
        "scalar = StandardScaler()\n",
        "X_scaled = scalar.fit_transform(X)"
      ],
      "execution_count": null,
      "outputs": []
    },
    {
      "cell_type": "code",
      "metadata": {
        "id": "GTWXLZkz-s5E"
      },
      "source": [
        "x_train,x_test,y_train,y_test = train_test_split(X_scaled,y,test_size = 0.20, random_state= 355)"
      ],
      "execution_count": null,
      "outputs": []
    },
    {
      "cell_type": "code",
      "metadata": {
        "id": "jKlScW9qJLkg"
      },
      "source": [
        "#boosting algorithms\n",
        "#XGboost - accuracy\n",
        "#GBT - accuracy\n",
        "\n",
        "#tree methods \n",
        "#rf - accuracy\n",
        "#decisiontress - accuracy\n",
        "\n",
        "#SVM\n",
        "#KNN\n",
        "\n",
        "#Stacked model\n",
        "\n",
        "#ANN"
      ],
      "execution_count": null,
      "outputs": []
    },
    {
      "cell_type": "markdown",
      "metadata": {
        "id": "A1bJCjiw0hCD"
      },
      "source": [
        "# XG-Boost Classifier"
      ]
    },
    {
      "cell_type": "code",
      "metadata": {
        "id": "ibf3HyfEKpgu"
      },
      "source": [
        "import time"
      ],
      "execution_count": null,
      "outputs": []
    },
    {
      "cell_type": "code",
      "metadata": {
        "id": "7fXKu_yr0ALf",
        "colab": {
          "base_uri": "https://localhost:8080/"
        },
        "outputId": "c2790669-72d6-4173-9540-336b73ad6da9"
      },
      "source": [
        "start = time.time()\n",
        "xgb = XGBClassifier(objective='multi:softmax')\n",
        "xgb.fit(x_train,y_train)\n",
        "print(xgb.score(x_test,y_test))\n",
        "print(xgb.score(x_train,y_train))\n",
        "end = time.time()\n",
        "print(end - start)"
      ],
      "execution_count": null,
      "outputs": [
        {
          "output_type": "stream",
          "text": [
            "0.7110016420361248\n",
            "0.7623152709359606\n",
            "1.1605310440063477\n"
          ],
          "name": "stdout"
        }
      ]
    },
    {
      "cell_type": "code",
      "metadata": {
        "id": "bh2LJbb-7KMZ",
        "colab": {
          "base_uri": "https://localhost:8080/"
        },
        "outputId": "d02766a4-bfd6-438f-8bf9-4c8b99dbb44f"
      },
      "source": [
        "xgb2=XGBClassifier(objective='multi:softmax')\n",
        "cv = RepeatedStratifiedKFold(n_splits=10, n_repeats=3)\n",
        "scores = cross_val_score(xgb2, X, y, scoring='accuracy', cv=cv, n_jobs=-1, error_score='raise')\n",
        "print(scores.mean())"
      ],
      "execution_count": null,
      "outputs": [
        {
          "output_type": "stream",
          "text": [
            "0.7215160339373022\n"
          ],
          "name": "stdout"
        }
      ]
    },
    {
      "cell_type": "code",
      "metadata": {
        "id": "OnBd2u4z79Fe"
      },
      "source": [
        "gbt2=GradientBoostingClassifier()\n",
        "scores = cross_val_score(gbt2, X, y, scoring='accuracy', cv=cv, n_jobs=-1, error_score='raise')\n",
        "print(scores.mean())"
      ],
      "execution_count": null,
      "outputs": []
    },
    {
      "cell_type": "code",
      "metadata": {
        "id": "8wvy0IKGDQdK"
      },
      "source": [
        "clf2 = DecisionTreeClassifier()\n",
        "scores = cross_val_score(clf2, X, y, scoring='accuracy', cv=cv, n_jobs=-1, error_score='raise')\n",
        "print(scores.mean())"
      ],
      "execution_count": null,
      "outputs": []
    },
    {
      "cell_type": "code",
      "metadata": {
        "id": "J4nou1TmDuRO"
      },
      "source": [
        "clf2.fit(X,y)"
      ],
      "execution_count": null,
      "outputs": []
    },
    {
      "cell_type": "code",
      "metadata": {
        "id": "Ek95KNwBcsYO"
      },
      "source": [
        "clf2.predict([[0,10,4,55,70.0,118.0,4056.0]])"
      ],
      "execution_count": null,
      "outputs": []
    },
    {
      "cell_type": "markdown",
      "metadata": {
        "id": "-GFJGtEr01q4"
      },
      "source": [
        "# Gradient Boosting"
      ]
    },
    {
      "cell_type": "code",
      "metadata": {
        "id": "6ZMYQRR50iRO"
      },
      "source": [
        "gbt= GradientBoostingClassifier(n_estimators= 300)\n",
        "gbt.fit(x_train,y_train)\n",
        "print(gbt.score(x_test,y_test))\n",
        "print(gbt.score(x_train,y_train))"
      ],
      "execution_count": null,
      "outputs": []
    },
    {
      "cell_type": "markdown",
      "metadata": {
        "id": "LrsCOgR1_g05"
      },
      "source": [
        "# Decision Tree Classifier"
      ]
    },
    {
      "cell_type": "code",
      "metadata": {
        "id": "JRvuPGsX_uC8"
      },
      "source": [
        "clf = DecisionTreeClassifier()\n",
        "clf=clf.fit(x_train,y_train)"
      ],
      "execution_count": null,
      "outputs": []
    },
    {
      "cell_type": "code",
      "metadata": {
        "id": "5Ssakr5fBc7V"
      },
      "source": [
        "feature_name=list(X.columns)\n",
        "class_name = list(y_train.unique())\n",
        "# create a dot_file which stores the tree structure\n",
        "dot_data = export_graphviz(clf,feature_names = feature_name,rounded = True,filled = True)\n",
        "# Draw graph\n",
        "graph = pydotplus.graph_from_dot_data(dot_data)  \n",
        "graph.write_png(\"myTree.png\")\n",
        "# Show graph\n",
        "Image(graph.create_png())"
      ],
      "execution_count": null,
      "outputs": []
    },
    {
      "cell_type": "markdown",
      "metadata": {
        "id": "-_havBI4BrSr"
      },
      "source": [
        "Let us calculate the training accuracy of our decision tree"
      ]
    },
    {
      "cell_type": "markdown",
      "metadata": {
        "id": "n_R2pIHm1-LB"
      },
      "source": [
        ""
      ]
    },
    {
      "cell_type": "code",
      "metadata": {
        "id": "_DEnYCA1BreN"
      },
      "source": [
        "clf.score(x_train,y_train)"
      ],
      "execution_count": null,
      "outputs": []
    },
    {
      "cell_type": "code",
      "metadata": {
        "id": "9-ssS03mBsQi"
      },
      "source": [
        "clf.score(x_test,y_test)"
      ],
      "execution_count": null,
      "outputs": []
    },
    {
      "cell_type": "markdown",
      "metadata": {
        "id": "QpxagtftDK-Z"
      },
      "source": [
        "Let us do the hyperparameter tuning for this model"
      ]
    },
    {
      "cell_type": "code",
      "metadata": {
        "id": "RhQz1Z7MCLJ4"
      },
      "source": [
        "'''\n",
        "clf=DecisionTreeClassifier()\n",
        "grid_param = {\n",
        "    'criterion': ['gini', 'entropy'],\n",
        "    'max_depth' : range(2,32,1),\n",
        "    'min_samples_leaf' : range(1,10,1),\n",
        "    'min_samples_split': range(2,10,1),\n",
        "    'splitter' : ['best', 'random']\n",
        "             }\n",
        "grid_search = GridSearchCV(estimator=clf,\n",
        "                     param_grid=grid_param,\n",
        "                     cv=10,\n",
        "                    n_jobs =-1)\n",
        "                    '''"
      ],
      "execution_count": null,
      "outputs": []
    },
    {
      "cell_type": "code",
      "metadata": {
        "id": "m9ZMc-KfDbv6"
      },
      "source": [
        "grid_search.fit(x_train,y_train)"
      ],
      "execution_count": null,
      "outputs": []
    },
    {
      "cell_type": "code",
      "metadata": {
        "id": "h0mT4bLdEG9x"
      },
      "source": [
        "best_parameters = grid_search.best_params_\n",
        "print(best_parameters)\n",
        "print(grid_search.best_score_)"
      ],
      "execution_count": null,
      "outputs": []
    },
    {
      "cell_type": "markdown",
      "metadata": {
        "id": "LRaKKEoRFO3i"
      },
      "source": [
        "Using the above hyperparameters we will tune our model"
      ]
    },
    {
      "cell_type": "code",
      "metadata": {
        "id": "COVMImnEEWYC"
      },
      "source": [
        "clf = DecisionTreeClassifier(criterion = 'gini', max_depth =15, min_samples_leaf= 1, min_samples_split= 2, splitter ='best')\n",
        "clf.fit(x_train,y_train)"
      ],
      "execution_count": null,
      "outputs": []
    },
    {
      "cell_type": "markdown",
      "metadata": {
        "id": "UAZqdcVMFV6L"
      },
      "source": [
        "Let us check the accuracy of our model"
      ]
    },
    {
      "cell_type": "code",
      "metadata": {
        "id": "i4XJ27gFFNzX"
      },
      "source": [
        "clf.score(x_train,y_train)"
      ],
      "execution_count": null,
      "outputs": []
    },
    {
      "cell_type": "code",
      "metadata": {
        "id": "QSMfHtAqFnci"
      },
      "source": [
        "clf.score(x_test,y_test)"
      ],
      "execution_count": null,
      "outputs": []
    },
    {
      "cell_type": "code",
      "metadata": {
        "id": "pqb9nepNTt58"
      },
      "source": [
        "y = label_binarize(y, classes=[0, 1, 2, 3])\n",
        "n_classes = y.shape[1]\n",
        "roc_auc_score(y_test, clf.predict_proba(x_test), multi_class='ovr')"
      ],
      "execution_count": null,
      "outputs": []
    },
    {
      "cell_type": "markdown",
      "metadata": {
        "id": "fZKTb3gdGpnr"
      },
      "source": [
        "# Random Forest"
      ]
    },
    {
      "cell_type": "code",
      "metadata": {
        "id": "Z7i_DoWoF019"
      },
      "source": [
        "rand_clf = RandomForestClassifier(bootstrap=True,random_state=6,n_estimators=350)\n",
        "rand_clf.fit(x_train,y_train)"
      ],
      "execution_count": null,
      "outputs": []
    },
    {
      "cell_type": "code",
      "metadata": {
        "id": "f94mwskhHPig"
      },
      "source": [
        "print(\"The training accuracy is:\",rand_clf.score(x_train,y_train))\n",
        "print(\"The testing accuracy is:\",rand_clf.score(x_test,y_test))"
      ],
      "execution_count": null,
      "outputs": []
    },
    {
      "cell_type": "markdown",
      "metadata": {
        "id": "QyDdog21yb1S"
      },
      "source": [
        "# Stacking "
      ]
    },
    {
      "cell_type": "code",
      "metadata": {
        "id": "xiRk_aGPy_ul"
      },
      "source": [
        "# let's divide our dataset into training set and hold out set by 50%\n",
        "train,val_train,test,val_test = train_test_split(X_scaled,y,test_size=0.5, random_state= 355)"
      ],
      "execution_count": null,
      "outputs": []
    },
    {
      "cell_type": "code",
      "metadata": {
        "id": "nhBVnFLWzL1N"
      },
      "source": [
        "# let's split the training set again into training and test dataset \n",
        "x_train,x_test,y_train,y_test =  train_test_split(train,test,test_size=0.2, random_state= 355)"
      ],
      "execution_count": null,
      "outputs": []
    },
    {
      "cell_type": "code",
      "metadata": {
        "id": "QEuMO8kxzM1H",
        "colab": {
          "base_uri": "https://localhost:8080/"
        },
        "outputId": "b435adab-6ea6-4e87-bebf-1de95fa1c09f"
      },
      "source": [
        "rfc=RandomForestClassifier(n_estimators = 300)\n",
        "rfc.fit(x_train,y_train)\n",
        "print(rfc.score(x_train, y_train))\n",
        "print(rfc.score(x_test,y_test))"
      ],
      "execution_count": null,
      "outputs": [
        {
          "output_type": "stream",
          "text": [
            "0.9843878389482333\n",
            "0.7934426229508197\n"
          ],
          "name": "stdout"
        }
      ]
    },
    {
      "cell_type": "code",
      "metadata": {
        "id": "E2EAcm-wT_s-",
        "colab": {
          "base_uri": "https://localhost:8080/"
        },
        "outputId": "f7abd4d5-eb01-4cc0-de99-d1d5cfdf4d73"
      },
      "source": [
        "y = label_binarize(y, classes=[0, 1, 2, 3])\n",
        "n_classes = y.shape[1]\n",
        "roc_auc_score(y_test, rfc.predict_proba(x_test), multi_class='ovr')"
      ],
      "execution_count": null,
      "outputs": [
        {
          "output_type": "execute_result",
          "data": {
            "text/plain": [
              "0.8916687193518499"
            ]
          },
          "metadata": {
            "tags": []
          },
          "execution_count": 112
        }
      ]
    },
    {
      "cell_type": "code",
      "metadata": {
        "id": "ZSnDhjOfzueP",
        "colab": {
          "base_uri": "https://localhost:8080/"
        },
        "outputId": "f3f605cd-64fa-498b-98f2-f42c73e980f6"
      },
      "source": [
        "svm = SVC(probability= True)\n",
        "svm.fit(x_train,y_train)\n",
        "svm.score(x_test,y_test)\n",
        "\n"
      ],
      "execution_count": null,
      "outputs": [
        {
          "output_type": "execute_result",
          "data": {
            "text/plain": [
              "0.6163934426229508"
            ]
          },
          "metadata": {
            "tags": []
          },
          "execution_count": 113
        }
      ]
    },
    {
      "cell_type": "code",
      "metadata": {
        "id": "WqNMg-5RPbJW",
        "colab": {
          "base_uri": "https://localhost:8080/"
        },
        "outputId": "8723af3a-fc66-4dc9-f203-bb4ab6cf215b"
      },
      "source": [
        "y = label_binarize(y, classes=[0, 1, 2, 3])\n",
        "n_classes = y.shape[1]\n",
        "roc_auc_score(y_test, svm.predict_proba(x_test), multi_class='ovr')"
      ],
      "execution_count": null,
      "outputs": [
        {
          "output_type": "execute_result",
          "data": {
            "text/plain": [
              "0.75998355355134"
            ]
          },
          "metadata": {
            "tags": []
          },
          "execution_count": 114
        }
      ]
    },
    {
      "cell_type": "code",
      "metadata": {
        "id": "-Hg3IxLS0Zwo",
        "colab": {
          "base_uri": "https://localhost:8080/"
        },
        "outputId": "d74b7fc4-3d1a-42d1-f210-6b6d32eefc12"
      },
      "source": [
        "knn=KNeighborsClassifier(n_neighbors=7,weights = 'distance')\n",
        "knn.fit(x_train,y_train)\n",
        "print(knn.score(x_test,y_test))\n",
        "knn.score(x_train,y_train)\n"
      ],
      "execution_count": null,
      "outputs": [
        {
          "output_type": "stream",
          "text": [
            "0.7245901639344262\n"
          ],
          "name": "stdout"
        },
        {
          "output_type": "execute_result",
          "data": {
            "text/plain": [
              "0.9843878389482333"
            ]
          },
          "metadata": {
            "tags": []
          },
          "execution_count": 115
        }
      ]
    },
    {
      "cell_type": "code",
      "metadata": {
        "id": "CXcF25EnQjmU",
        "colab": {
          "base_uri": "https://localhost:8080/"
        },
        "outputId": "3af6289b-0c20-48ac-f95d-e5a4c9aa5ca3"
      },
      "source": [
        "y = label_binarize(y, classes=[0, 1, 2, 3])\n",
        "n_classes = y.shape[1]\n",
        "roc_auc_score(y_test, knn.predict_proba(x_test), multi_class='ovr')"
      ],
      "execution_count": null,
      "outputs": [
        {
          "output_type": "execute_result",
          "data": {
            "text/plain": [
              "0.813334039848024"
            ]
          },
          "metadata": {
            "tags": []
          },
          "execution_count": 116
        }
      ]
    },
    {
      "cell_type": "code",
      "metadata": {
        "id": "WcXqGd7Fr4jE",
        "colab": {
          "base_uri": "https://localhost:8080/",
          "height": 52
        },
        "outputId": "022b686a-dabf-47c9-8e7c-983799a88368"
      },
      "source": [
        "'''\n",
        "param_grid = { 'algorithm' : ['ball_tree', 'kd_tree', 'brute'],\n",
        "               'leaf_size' : [18,20,25,27,30,32,34],\n",
        "               'n_neighbors' : [3,5,7,9,10,11,12,13]\n",
        "              }\n",
        "gridsearch = GridSearchCV(knn, param_grid,verbose=3)\n",
        "gridsearch.fit(x_train,y_train)\n",
        "'''"
      ],
      "execution_count": null,
      "outputs": [
        {
          "output_type": "execute_result",
          "data": {
            "application/vnd.google.colaboratory.intrinsic+json": {
              "type": "string"
            },
            "text/plain": [
              "\"\\nparam_grid = { 'algorithm' : ['ball_tree', 'kd_tree', 'brute'],\\n               'leaf_size' : [18,20,25,27,30,32,34],\\n               'n_neighbors' : [3,5,7,9,10,11,12,13]\\n              }\\ngridsearch = GridSearchCV(knn, param_grid,verbose=3)\\ngridsearch.fit(x_train,y_train)\\n\""
            ]
          },
          "metadata": {
            "tags": []
          },
          "execution_count": 117
        }
      ]
    },
    {
      "cell_type": "code",
      "metadata": {
        "id": "ij7aQ_d_sPgE"
      },
      "source": [
        "#gridsearch.best_params_"
      ],
      "execution_count": null,
      "outputs": []
    },
    {
      "cell_type": "code",
      "metadata": {
        "id": "4O0LLaQRsVeq",
        "colab": {
          "base_uri": "https://localhost:8080/"
        },
        "outputId": "6026611a-6c01-431c-aef9-b53152480ef1"
      },
      "source": [
        "knn = KNeighborsClassifier(algorithm = 'brute', leaf_size =18, n_neighbors =7)\n",
        "knn.fit(x_train,y_train)"
      ],
      "execution_count": null,
      "outputs": [
        {
          "output_type": "execute_result",
          "data": {
            "text/plain": [
              "KNeighborsClassifier(algorithm='brute', leaf_size=18, metric='minkowski',\n",
              "                     metric_params=None, n_jobs=None, n_neighbors=7, p=2,\n",
              "                     weights='uniform')"
            ]
          },
          "metadata": {
            "tags": []
          },
          "execution_count": 119
        }
      ]
    },
    {
      "cell_type": "code",
      "metadata": {
        "id": "0URJysgUsfvp",
        "colab": {
          "base_uri": "https://localhost:8080/"
        },
        "outputId": "18b67350-c58f-4385-91e3-8780d48d8709"
      },
      "source": [
        "print(knn.score(x_train,y_train))\n",
        "knn.score(x_test,y_test)"
      ],
      "execution_count": null,
      "outputs": [
        {
          "output_type": "stream",
          "text": [
            "0.7584223500410846\n"
          ],
          "name": "stdout"
        },
        {
          "output_type": "execute_result",
          "data": {
            "text/plain": [
              "0.6688524590163935"
            ]
          },
          "metadata": {
            "tags": []
          },
          "execution_count": 120
        }
      ]
    },
    {
      "cell_type": "code",
      "metadata": {
        "id": "3xtrd4ZtQpmx",
        "colab": {
          "base_uri": "https://localhost:8080/"
        },
        "outputId": "4a358895-0937-4232-93e3-4bbe22c1873a"
      },
      "source": [
        "y = label_binarize(y, classes=[0, 1, 2, 3])\n",
        "n_classes = y.shape[1]\n",
        "roc_auc_score(y_test, knn.predict_proba(x_test), multi_class='ovr')"
      ],
      "execution_count": null,
      "outputs": [
        {
          "output_type": "execute_result",
          "data": {
            "text/plain": [
              "0.7834694725365176"
            ]
          },
          "metadata": {
            "tags": []
          },
          "execution_count": 121
        }
      ]
    },
    {
      "cell_type": "code",
      "metadata": {
        "id": "jL94IWxfFaXP",
        "colab": {
          "base_uri": "https://localhost:8080/"
        },
        "outputId": "2ced26c4-18e2-47bb-ec11-e05d84d2cb3a"
      },
      "source": [
        "gnb = GaussianNB()\n",
        "gnb.fit(x_train,y_train)\n",
        "print(gnb.score(x_train,y_train))\n",
        "gnb.score(x_test,y_test)"
      ],
      "execution_count": null,
      "outputs": [
        {
          "output_type": "stream",
          "text": [
            "0.5825801150369762\n"
          ],
          "name": "stdout"
        },
        {
          "output_type": "execute_result",
          "data": {
            "text/plain": [
              "0.5573770491803278"
            ]
          },
          "metadata": {
            "tags": []
          },
          "execution_count": 122
        }
      ]
    },
    {
      "cell_type": "code",
      "metadata": {
        "id": "ISxaF47-QtQ_",
        "colab": {
          "base_uri": "https://localhost:8080/"
        },
        "outputId": "144f09da-689d-472d-e9ba-db5a5e77bee6"
      },
      "source": [
        "y = label_binarize(y, classes=[0, 1, 2, 3])\n",
        "n_classes = y.shape[1]\n",
        "roc_auc_score(y_test, gnb.predict_proba(x_test), multi_class='ovr')"
      ],
      "execution_count": null,
      "outputs": [
        {
          "output_type": "execute_result",
          "data": {
            "text/plain": [
              "0.7037115979863142"
            ]
          },
          "metadata": {
            "tags": []
          },
          "execution_count": 123
        }
      ]
    },
    {
      "cell_type": "code",
      "metadata": {
        "id": "P0VM0tODmYgG",
        "colab": {
          "base_uri": "https://localhost:8080/"
        },
        "outputId": "91bc3b3b-dfe0-4531-ebc6-c4d596805cef"
      },
      "source": [
        "gbt= GradientBoostingClassifier(n_estimators = 300, learning_rate = 0.05)\n",
        "gbt.fit(x_train,y_train)\n",
        "print(gbt.score(x_train,y_train))\n",
        "gbt.score(x_test,y_test)"
      ],
      "execution_count": null,
      "outputs": [
        {
          "output_type": "stream",
          "text": [
            "0.8915365653245686\n"
          ],
          "name": "stdout"
        },
        {
          "output_type": "execute_result",
          "data": {
            "text/plain": [
              "0.7672131147540984"
            ]
          },
          "metadata": {
            "tags": []
          },
          "execution_count": 124
        }
      ]
    },
    {
      "cell_type": "code",
      "metadata": {
        "id": "VR5hhLi1QxI3",
        "colab": {
          "base_uri": "https://localhost:8080/"
        },
        "outputId": "2bdc9f30-c362-40e3-868c-c78ab93a6a6b"
      },
      "source": [
        "y = label_binarize(y, classes=[0, 1, 2, 3])\n",
        "n_classes = y.shape[1]\n",
        "roc_auc_score(y_test, gbt.predict_proba(x_test), multi_class='ovr')"
      ],
      "execution_count": null,
      "outputs": [
        {
          "output_type": "execute_result",
          "data": {
            "text/plain": [
              "0.8653704934504955"
            ]
          },
          "metadata": {
            "tags": []
          },
          "execution_count": 125
        }
      ]
    },
    {
      "cell_type": "code",
      "metadata": {
        "id": "BdBJWvINGswq",
        "colab": {
          "base_uri": "https://localhost:8080/"
        },
        "outputId": "ee66f823-ca2d-417d-822c-0e0275d4a474"
      },
      "source": [
        "abc = AdaBoostClassifier(n_estimators=100, random_state=0)\n",
        "abc.fit(x_train, y_train)"
      ],
      "execution_count": null,
      "outputs": [
        {
          "output_type": "execute_result",
          "data": {
            "text/plain": [
              "AdaBoostClassifier(algorithm='SAMME.R', base_estimator=None, learning_rate=1.0,\n",
              "                   n_estimators=100, random_state=0)"
            ]
          },
          "metadata": {
            "tags": []
          },
          "execution_count": 126
        }
      ]
    },
    {
      "cell_type": "code",
      "metadata": {
        "id": "jJIvw4XCKgMw",
        "colab": {
          "base_uri": "https://localhost:8080/"
        },
        "outputId": "a44b1a37-d012-4ae5-c614-966cd51e7469"
      },
      "source": [
        "\n",
        "(abc.score(x_train,y_train))\n",
        "print(abc.score(x_test,y_test))"
      ],
      "execution_count": null,
      "outputs": [
        {
          "output_type": "stream",
          "text": [
            "0.6327868852459017\n"
          ],
          "name": "stdout"
        }
      ]
    },
    {
      "cell_type": "code",
      "metadata": {
        "id": "lhfzC7IXQ2ao",
        "colab": {
          "base_uri": "https://localhost:8080/"
        },
        "outputId": "67ee71d7-23cf-435c-9836-502b4a7c7aec"
      },
      "source": [
        "y = label_binarize(y, classes=[0, 1, 2, 3])\n",
        "n_classes = y.shape[1]\n",
        "roc_auc_score(y_test, abc.predict_proba(x_test), multi_class='ovr')"
      ],
      "execution_count": null,
      "outputs": [
        {
          "output_type": "execute_result",
          "data": {
            "text/plain": [
              "0.7340741528985795"
            ]
          },
          "metadata": {
            "tags": []
          },
          "execution_count": 128
        }
      ]
    },
    {
      "cell_type": "code",
      "metadata": {
        "id": "3DBZrtd3MNao",
        "colab": {
          "base_uri": "https://localhost:8080/",
          "height": 52
        },
        "outputId": "592b1a77-56c0-4ac5-e077-068f534c6d58"
      },
      "source": [
        "'''\n",
        "param_grid= {\"base_estimator__criterion\" : [\"gini\", \"entropy\"],\n",
        "              \"base_estimator__splitter\" :   [\"best\", \"random\"],\n",
        "              \"n_estimators\": [50,100, 150,200,250,300]\n",
        "             }\n",
        "\n",
        "\n",
        "\n",
        "# run grid search\n",
        "grid_search = GridSearchCV(abc, param_grid,verbose=3)\n",
        "'''"
      ],
      "execution_count": null,
      "outputs": [
        {
          "output_type": "execute_result",
          "data": {
            "application/vnd.google.colaboratory.intrinsic+json": {
              "type": "string"
            },
            "text/plain": [
              "'\\nparam_grid= {\"base_estimator__criterion\" : [\"gini\", \"entropy\"],\\n              \"base_estimator__splitter\" :   [\"best\", \"random\"],\\n              \"n_estimators\": [50,100, 150,200,250,300]\\n             }\\n\\n\\n\\n# run grid search\\ngrid_search = GridSearchCV(abc, param_grid,verbose=3)\\n'"
            ]
          },
          "metadata": {
            "tags": []
          },
          "execution_count": 129
        }
      ]
    },
    {
      "cell_type": "code",
      "metadata": {
        "id": "shPMyQ5cNCsV"
      },
      "source": [
        ""
      ],
      "execution_count": null,
      "outputs": []
    },
    {
      "cell_type": "code",
      "metadata": {
        "id": "FVNX2HuxINXZ",
        "colab": {
          "base_uri": "https://localhost:8080/"
        },
        "outputId": "4b344fa2-f133-4bf9-f0a0-e29cbaedbd71"
      },
      "source": [
        "xgb = XGBClassifier(objective='multi:softmax')\n",
        "xgb.fit(x_train, y_train)\n",
        "xgb.score(x_test,y_test)"
      ],
      "execution_count": null,
      "outputs": [
        {
          "output_type": "execute_result",
          "data": {
            "text/plain": [
              "0.7344262295081967"
            ]
          },
          "metadata": {
            "tags": []
          },
          "execution_count": 130
        }
      ]
    },
    {
      "cell_type": "code",
      "metadata": {
        "id": "gwohq0_dQ5gj",
        "colab": {
          "base_uri": "https://localhost:8080/"
        },
        "outputId": "b0768e66-931d-4610-f06b-0467ab17ee6a"
      },
      "source": [
        "y = label_binarize(y, classes=[0, 1, 2, 3])\n",
        "n_classes = y.shape[1]\n",
        "roc_auc_score(y_test, xgb.predict_proba(x_test), multi_class='ovr')"
      ],
      "execution_count": null,
      "outputs": [
        {
          "output_type": "execute_result",
          "data": {
            "text/plain": [
              "0.8593417743332428"
            ]
          },
          "metadata": {
            "tags": []
          },
          "execution_count": 131
        }
      ]
    },
    {
      "cell_type": "code",
      "metadata": {
        "id": "O0id1Ltm0eH3"
      },
      "source": [
        "#best\n",
        "predict_val1 = rfc.predict(val_train)\n",
        "predict_val2 = knn.predict(val_train)\n",
        "predict_val3 = gbt.predict(val_train)\n",
        "predict_val4 = xgb.predict(val_train)\n",
        "predict_val5= svm.predict(val_train)"
      ],
      "execution_count": null,
      "outputs": []
    },
    {
      "cell_type": "code",
      "metadata": {
        "id": "lxmIMUWo0qH2",
        "colab": {
          "base_uri": "https://localhost:8080/"
        },
        "outputId": "ea86a633-efb1-4b9c-dd7e-ca77d759ddfe"
      },
      "source": [
        "predict_val = np.column_stack((predict_val1,predict_val2,predict_val3,predict_val4,predict_val5))\n",
        "predict_val"
      ],
      "execution_count": null,
      "outputs": [
        {
          "output_type": "execute_result",
          "data": {
            "text/plain": [
              "array([[1, 1, 1, 1, 1],\n",
              "       [1, 1, 3, 3, 3],\n",
              "       [3, 3, 3, 3, 3],\n",
              "       ...,\n",
              "       [3, 1, 3, 3, 1],\n",
              "       [1, 0, 0, 0, 3],\n",
              "       [2, 1, 2, 3, 3]])"
            ]
          },
          "metadata": {
            "tags": []
          },
          "execution_count": 133
        }
      ]
    },
    {
      "cell_type": "code",
      "metadata": {
        "id": "zYljBvV304Hg"
      },
      "source": [
        "predict_test1 = rfc.predict(x_test)\n",
        "predict_test2 = knn.predict(x_test)\n",
        "predict_test3 = gbt.predict(x_test)\n",
        "predict_test4= xgb.predict(x_test)\n",
        "predict_test5= svm.predict(x_test)"
      ],
      "execution_count": null,
      "outputs": []
    },
    {
      "cell_type": "code",
      "metadata": {
        "id": "7E4uve_E045c"
      },
      "source": [
        "predict_test = np.column_stack((predict_test1,predict_test2,predict_test3,predict_test4,predict_test5))"
      ],
      "execution_count": null,
      "outputs": []
    },
    {
      "cell_type": "code",
      "metadata": {
        "id": "xTVdvf081EGR",
        "colab": {
          "base_uri": "https://localhost:8080/"
        },
        "outputId": "342a67dd-1f75-47f8-bbab-e2b75c287004"
      },
      "source": [
        "rand_clf = RandomForestClassifier()\n",
        "\n",
        "rand_clf.fit(predict_val,val_test)\n",
        "rand_clf.score(predict_test,y_test)"
      ],
      "execution_count": null,
      "outputs": [
        {
          "output_type": "execute_result",
          "data": {
            "text/plain": [
              "0.8032786885245902"
            ]
          },
          "metadata": {
            "tags": []
          },
          "execution_count": 136
        }
      ]
    },
    {
      "cell_type": "code",
      "metadata": {
        "id": "b_Ba2uxuGNuK",
        "colab": {
          "base_uri": "https://localhost:8080/"
        },
        "outputId": "20b35979-79e9-45cf-a810-a2c2e563b7d1"
      },
      "source": [
        "y = label_binarize(y, classes=[0, 1, 2, 3])\n",
        "n_classes = y.shape[1]\n",
        "roc_auc_score(y_test, svm.predict_proba(x_test), multi_class='ovr')"
      ],
      "execution_count": null,
      "outputs": [
        {
          "output_type": "execute_result",
          "data": {
            "text/plain": [
              "0.75998355355134"
            ]
          },
          "metadata": {
            "tags": []
          },
          "execution_count": 137
        }
      ]
    },
    {
      "cell_type": "code",
      "metadata": {
        "id": "eV18TnxR1PW9",
        "colab": {
          "base_uri": "https://localhost:8080/",
          "height": 52
        },
        "outputId": "fd8ae6cd-6258-416c-f7fd-076b0f0b7761"
      },
      "source": [
        "# we are tuning three hyperparameters right now, we are passing the different values for both parameters\n",
        "'''\n",
        "grid_param = {\n",
        "    \"n_estimators\" : [90,100,115,130,150,200],\n",
        "    'criterion': ['gini', 'entropy'],\n",
        "    'min_samples_leaf' : [1,2,3,4,5,6,7],\n",
        "    'min_samples_split': [1,2,3,4,5,6,7,8],\n",
        "    'max_features' : ['auto','log2']\n",
        "}\n",
        "grid_search = GridSearchCV(estimator=rand_clf,param_grid=grid_param,cv=5,n_jobs =-1,verbose = 3)\n",
        "'''"
      ],
      "execution_count": null,
      "outputs": [
        {
          "output_type": "execute_result",
          "data": {
            "application/vnd.google.colaboratory.intrinsic+json": {
              "type": "string"
            },
            "text/plain": [
              "'\\ngrid_param = {\\n    \"n_estimators\" : [90,100,115,130,150,200],\\n    \\'criterion\\': [\\'gini\\', \\'entropy\\'],\\n    \\'min_samples_leaf\\' : [1,2,3,4,5,6,7],\\n    \\'min_samples_split\\': [1,2,3,4,5,6,7,8],\\n    \\'max_features\\' : [\\'auto\\',\\'log2\\']\\n}\\ngrid_search = GridSearchCV(estimator=rand_clf,param_grid=grid_param,cv=5,n_jobs =-1,verbose = 3)\\n'"
            ]
          },
          "metadata": {
            "tags": []
          },
          "execution_count": 138
        }
      ]
    },
    {
      "cell_type": "code",
      "metadata": {
        "id": "p5wHMzn51TnY"
      },
      "source": [
        "#grid_search.fit(predict_val,val_test)"
      ],
      "execution_count": null,
      "outputs": []
    },
    {
      "cell_type": "code",
      "metadata": {
        "id": "E7oDNcBa6b_L"
      },
      "source": [
        "#print(grid_search.best_score_)\n",
        "#grid_search.best_params_"
      ],
      "execution_count": null,
      "outputs": []
    },
    {
      "cell_type": "code",
      "metadata": {
        "id": "mawOulwA1rq9"
      },
      "source": [
        "rand_clf = RandomForestClassifier( criterion='entropy',max_features = 'log2',min_samples_leaf =3,min_samples_split=5 ,n_estimators =115)"
      ],
      "execution_count": null,
      "outputs": []
    },
    {
      "cell_type": "code",
      "metadata": {
        "id": "xsxbIgUP1sLk",
        "colab": {
          "base_uri": "https://localhost:8080/"
        },
        "outputId": "7db27a21-e1cd-404b-db56-f7ed47e07d78"
      },
      "source": [
        "rand_clf.fit(predict_val,val_test)"
      ],
      "execution_count": null,
      "outputs": [
        {
          "output_type": "execute_result",
          "data": {
            "text/plain": [
              "RandomForestClassifier(bootstrap=True, ccp_alpha=0.0, class_weight=None,\n",
              "                       criterion='entropy', max_depth=None, max_features='log2',\n",
              "                       max_leaf_nodes=None, max_samples=None,\n",
              "                       min_impurity_decrease=0.0, min_impurity_split=None,\n",
              "                       min_samples_leaf=3, min_samples_split=5,\n",
              "                       min_weight_fraction_leaf=0.0, n_estimators=115,\n",
              "                       n_jobs=None, oob_score=False, random_state=None,\n",
              "                       verbose=0, warm_start=False)"
            ]
          },
          "metadata": {
            "tags": []
          },
          "execution_count": 142
        }
      ]
    },
    {
      "cell_type": "code",
      "metadata": {
        "id": "iAJPX7Sf1vAQ",
        "colab": {
          "base_uri": "https://localhost:8080/"
        },
        "outputId": "950fabc3-dedf-4c69-bf7f-d6afab620878"
      },
      "source": [
        "rand_clf.score(predict_test,y_test)\n"
      ],
      "execution_count": null,
      "outputs": [
        {
          "output_type": "execute_result",
          "data": {
            "text/plain": [
              "0.8065573770491803"
            ]
          },
          "metadata": {
            "tags": []
          },
          "execution_count": 143
        }
      ]
    },
    {
      "cell_type": "code",
      "metadata": {
        "id": "4igWUCDtDwzs",
        "colab": {
          "base_uri": "https://localhost:8080/"
        },
        "outputId": "56064ebf-35ae-4cd0-f045-f624e48062c7"
      },
      "source": [
        "roc_auc_score(y_test, rand_clf.predict_proba(predict_test), multi_class='ovr')"
      ],
      "execution_count": null,
      "outputs": [
        {
          "output_type": "execute_result",
          "data": {
            "text/plain": [
              "0.822996365560503"
            ]
          },
          "metadata": {
            "tags": []
          },
          "execution_count": 144
        }
      ]
    },
    {
      "cell_type": "code",
      "metadata": {
        "colab": {
          "base_uri": "https://localhost:8080/"
        },
        "id": "aXTFMEWE5jp7",
        "outputId": "ba5d35b2-afa4-4ee8-8e53-8f571e9c4232"
      },
      "source": [
        "#Plotting the confusion matrix\n",
        "confusion_matrix(y_test, rand_clf.predict(predict_test),labels=[0,1,2,3])"
      ],
      "execution_count": null,
      "outputs": [
        {
          "output_type": "execute_result",
          "data": {
            "text/plain": [
              "array([[ 17,   3,   0,  12],\n",
              "       [  2,  75,   2,   7],\n",
              "       [  1,   7,   9,  13],\n",
              "       [  1,   8,   3, 145]])"
            ]
          },
          "metadata": {
            "tags": []
          },
          "execution_count": 145
        }
      ]
    },
    {
      "cell_type": "code",
      "metadata": {
        "colab": {
          "base_uri": "https://localhost:8080/"
        },
        "id": "23h_0uJl7Ha2",
        "outputId": "1b638a4b-4113-404f-a3bd-39e7fc8bf349"
      },
      "source": [
        "predict_test"
      ],
      "execution_count": null,
      "outputs": [
        {
          "output_type": "execute_result",
          "data": {
            "text/plain": [
              "array([[0, 1, 0, 3, 3],\n",
              "       [3, 3, 3, 3, 3],\n",
              "       [3, 3, 3, 3, 1],\n",
              "       ...,\n",
              "       [3, 3, 3, 3, 3],\n",
              "       [3, 3, 3, 3, 3],\n",
              "       [3, 3, 1, 3, 1]])"
            ]
          },
          "metadata": {
            "tags": []
          },
          "execution_count": 146
        }
      ]
    },
    {
      "cell_type": "code",
      "metadata": {
        "id": "l74NFHpqG88M",
        "colab": {
          "base_uri": "https://localhost:8080/",
          "height": 594
        },
        "outputId": "11f9af07-2845-46fe-9f04-e51fc8466597"
      },
      "source": [
        "target_names={'A','B','C','D'}\n",
        "# get the probability distribution\n",
        "probas = rand_clf.predict_proba(predict_test)\n",
        "# plot\n",
        "x=plt.figure(dpi=150)\n",
        "plt.hist(probas, bins=20)\n",
        "plt.title('Classification Probabilities')\n",
        "plt.xlabel('Probability')\n",
        "plt.ylabel('Number of Instances')\n",
        "plt.xlim([0.5, 1.0])\n",
        "plt.legend(target_names)\n",
        "x.show()\n",
        "x.savefig('Class_fig')\n"
      ],
      "execution_count": null,
      "outputs": [
        {
          "output_type": "display_data",
          "data": {
            "image/png": "[encoded data removed]",
            "text/plain": [
              "<Figure size 900x600 with 1 Axes>"
            ]
          },
          "metadata": {
            "tags": [],
            "needs_background": "light"
          }
        }
      ]
    },
    {
      "cell_type": "code",
      "metadata": {
        "colab": {
          "base_uri": "https://localhost:8080/",
          "height": 34
        },
        "id": "-ybM3_Q4AwaK",
        "outputId": "abfec890-1749-4388-b292-ebfb14507541"
      },
      "source": [
        "plt.savefig('Classification_probablities.png')"
      ],
      "execution_count": null,
      "outputs": [
        {
          "output_type": "display_data",
          "data": {
            "text/plain": [
              "<Figure size 432x288 with 0 Axes>"
            ]
          },
          "metadata": {
            "tags": []
          }
        }
      ]
    },
    {
      "cell_type": "code",
      "metadata": {
        "colab": {
          "base_uri": "https://localhost:8080/",
          "height": 594
        },
        "id": "DhnwN_8XmffT",
        "outputId": "971948f4-c8cf-4a1e-80e2-39b56062486b"
      },
      "source": [
        "probas = rand_clf.predict_proba(predict_test)\n",
        "fpr, tpr, thresholds = roc_curve(y_test, probas[:,0], pos_label=0)\n",
        "# get area under the curve\n",
        "roc_auc = auc(fpr, tpr)\n",
        "# PLOT ROC curve\n",
        "x=plt.figure(dpi=150)\n",
        "plt.plot(fpr, tpr, lw=1, color='green', label=f'AUC = {roc_auc:.3f}')\n",
        "plt.fill_between(fpr, tpr, -1, facecolor='green', alpha=0.5)\n",
        "plt.title('ROC Curve for RF classifier')\n",
        "plt.xlabel('False Positive Rate')\n",
        "plt.ylabel('True Positive Rate (Recall)')\n",
        "plt.xlim([-0.05, 1.05])\n",
        "plt.ylim([-0.05, 1.05])\n",
        "plt.legend()\n",
        "x.show()\n",
        "x.savefig('ROC')\n"
      ],
      "execution_count": null,
      "outputs": [
        {
          "output_type": "display_data",
          "data": {
            "image/png": "[encoded data removed]",
            "text/plain": [
              "<Figure size 900x600 with 1 Axes>"
            ]
          },
          "metadata": {
            "tags": [],
            "needs_background": "light"
          }
        }
      ]
    },
    {
      "cell_type": "code",
      "metadata": {
        "colab": {
          "base_uri": "https://localhost:8080/",
          "height": 594
        },
        "id": "_P0Vq8CGsEiX",
        "outputId": "e092d0e2-48eb-48dc-821d-a0b2d95d2e08"
      },
      "source": [
        "from sklearn.metrics import precision_recall_curve, average_precision_score, auc\n",
        "# get precision and recall values\n",
        "precision, recall, thresholds = precision_recall_curve(y_test, probas[:,0], pos_label=0)\n",
        "# average precision score\n",
        "#avg_precision = average_precision_score(y_test, probas[:,1])\n",
        "# precision auc\n",
        "pr_auc = auc(recall, precision)\n",
        "# plot\n",
        "x=plt.figure(dpi=150)\n",
        "plt.plot(recall, precision, lw=1, color='blue', label=f'AUC={pr_auc:.3f}')\n",
        "plt.fill_between(recall, precision, -1, facecolor='lightblue', alpha=0.5)\n",
        "plt.title('PR Curve for RF classifier')\n",
        "plt.xlabel('Recall (TPR)')\n",
        "plt.ylabel('Precision')\n",
        "plt.xlim([-0.05, 1.05])\n",
        "plt.ylim([-0.05, 1.05])\n",
        "plt.legend()\n",
        "x.show()\n",
        "x.savefig('PR.png')"
      ],
      "execution_count": null,
      "outputs": [
        {
          "output_type": "display_data",
          "data": {
            "image/png": "[encoded data removed]",
            "text/plain": [
              "<Figure size 900x600 with 1 Axes>"
            ]
          },
          "metadata": {
            "tags": [],
            "needs_background": "light"
          }
        }
      ]
    },
    {
      "cell_type": "code",
      "metadata": {
        "id": "av93gfMUz0EL"
      },
      "source": [
        ""
      ],
      "execution_count": null,
      "outputs": []
    },
    {
      "cell_type": "code",
      "metadata": {
        "id": "wRdhjfpqBLSp"
      },
      "source": [
        ""
      ],
      "execution_count": null,
      "outputs": []
    }
  ]
}